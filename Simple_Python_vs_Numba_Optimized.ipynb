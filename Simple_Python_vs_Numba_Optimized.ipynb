{
  "nbformat": 4,
  "nbformat_minor": 0,
  "metadata": {
    "colab": {
      "provenance": []
    },
    "kernelspec": {
      "name": "python3",
      "display_name": "Python 3"
    },
    "language_info": {
      "name": "python"
    }
  },
  "cells": [
    {
      "cell_type": "code",
      "source": [
        "import warnings\n",
        "warnings.filterwarnings(\"ignore\", category=numba.NumbaDeprecationWarning)\n"
      ],
      "metadata": {
        "id": "6lz4rwniPlDO"
      },
      "execution_count": 20,
      "outputs": []
    },
    {
      "cell_type": "code",
      "source": [
        "def sum_of_squares_python(N):\n",
        "    result = 0\n",
        "    for i in range(1, N+1):\n",
        "        result += i*i\n",
        "    return result\n"
      ],
      "metadata": {
        "id": "iQQcHF6LOfoA"
      },
      "execution_count": 18,
      "outputs": []
    },
    {
      "cell_type": "code",
      "source": [
        "import numba\n",
        "\n",
        "@numba.jit\n",
        "def sum_of_squares_numba(N):\n",
        "    result = 0\n",
        "    for i in range(1, N+1):\n",
        "        result += i*i\n",
        "    return result\n"
      ],
      "metadata": {
        "id": "DMiEuYE8Oiff"
      },
      "execution_count": 19,
      "outputs": []
    },
    {
      "cell_type": "code",
      "source": [
        "import timeit\n",
        "\n",
        "N = 1000000  #  value\n",
        "\n",
        "# Time the Python function\n",
        "python_time = timeit.timeit(lambda: sum_of_squares_python(N), number=100)\n",
        "\n",
        "# Time the Numba-optimized function\n",
        "numba_time = timeit.timeit(lambda: sum_of_squares_numba(N), number=100)\n",
        "\n",
        "print(f\"Python Time: {python_time:.6f} seconds\")\n",
        "print(f\"Numba Time: {numba_time:.6f} seconds\")\n"
      ],
      "metadata": {
        "colab": {
          "base_uri": "https://localhost:8080/"
        },
        "id": "xYiT4BfaOmC3",
        "outputId": "767fae16-1ec7-41c1-d390-9d089554caa7"
      },
      "execution_count": 15,
      "outputs": [
        {
          "output_type": "stream",
          "name": "stdout",
          "text": [
            "Python Time: 12.417882 seconds\n",
            "Numba Time: 0.650929 seconds\n"
          ]
        }
      ]
    }
  ]
}